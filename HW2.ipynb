{
 "cells": [
  {
   "cell_type": "code",
   "execution_count": 18,
   "metadata": {},
   "outputs": [],
   "source": [
    "import numpy as np # linear algebra\n",
    "import scipy as sp \n",
    "import pandas as pd # data processing, CSV file I/O (e.g. pd.read_csv)\n",
    "\n",
    "# Visualization\n",
    "import matplotlib.pyplot as plt\n",
    "import seaborn as sns\n"
   ]
  },
  {
   "cell_type": "code",
   "execution_count": 19,
   "metadata": {},
   "outputs": [
    {
     "data": {
      "text/plain": [
       "(10000, 10)"
      ]
     },
     "execution_count": 19,
     "metadata": {},
     "output_type": "execute_result"
    }
   ],
   "source": [
    "#read in\n",
    "pd_data = pd.read_csv('Reviews.csv')\n",
    "#For this homework, please use the first 10000 rows\n",
    "pd_data = pd_data[:10000]\n",
    "pd_data.shape"
   ]
  },
  {
   "cell_type": "code",
   "execution_count": 20,
   "metadata": {},
   "outputs": [],
   "source": [
    "#pd_data.head()"
   ]
  },
  {
   "cell_type": "code",
   "execution_count": 21,
   "metadata": {},
   "outputs": [
    {
     "data": {
      "text/plain": [
       "UserId\n",
       "A1Z54EM24Y40LL    17\n",
       "A2SZLNSI5KOQJT    10\n",
       "A35R32TA60XD57     9\n",
       "A281NPSIMI1C2R     8\n",
       "A3OXHLG6DIBRW8     7\n",
       "A3NHUQ33CFH3VM     7\n",
       "A3PJZ8TU8FDQ1K     7\n",
       "A3TX6CWSZL02PW     6\n",
       "AQQLWCMRNDFGI      6\n",
       "A2R6RA8FRBS608     6\n",
       "dtype: int64"
      ]
     },
     "execution_count": 21,
     "metadata": {},
     "output_type": "execute_result"
    }
   ],
   "source": [
    "#Top-10 Reviewer\n",
    "#Sort by number of reviews (\"UserId\")\n",
    "userid=pd_data.groupby(\"UserId\")\n",
    "userid_sort_10=userid.size().sort_values(ascending=False).head(10)\n",
    "userid_sort_10"
   ]
  },
  {
   "cell_type": "code",
   "execution_count": 22,
   "metadata": {},
   "outputs": [],
   "source": [
    "#new DataFrame to show answer\n",
    "new=pd.DataFrame(columns=['UserId','ProfileName','Scorecount','score mean'])"
   ]
  },
  {
   "cell_type": "code",
   "execution_count": 23,
   "metadata": {},
   "outputs": [],
   "source": [
    "for i in range(10):\n",
    "    ppl=userid_sort_10.index[i]  #UserId\n",
    "    data=userid.get_group(ppl)   #get group\n",
    "    new_row={'UserId':[ppl],\n",
    "                'ProfileName':[data.iloc[0,3]],\n",
    "                'Scorecount':[userid_sort_10[i]],\n",
    "                'score mean':[data.mean()[3]]}     #one's data\n",
    "    add=pd.DataFrame(new_row)    #turn to dataframe\n",
    "    new=new.append(add)          #append\n"
   ]
  },
  {
   "cell_type": "code",
   "execution_count": 24,
   "metadata": {},
   "outputs": [
    {
     "data": {
      "text/html": [
       "<div>\n",
       "<style scoped>\n",
       "    .dataframe tbody tr th:only-of-type {\n",
       "        vertical-align: middle;\n",
       "    }\n",
       "\n",
       "    .dataframe tbody tr th {\n",
       "        vertical-align: top;\n",
       "    }\n",
       "\n",
       "    .dataframe thead th {\n",
       "        text-align: right;\n",
       "    }\n",
       "</style>\n",
       "<table border=\"1\" class=\"dataframe\">\n",
       "  <thead>\n",
       "    <tr style=\"text-align: right;\">\n",
       "      <th></th>\n",
       "      <th>index</th>\n",
       "      <th>UserId</th>\n",
       "      <th>ProfileName</th>\n",
       "      <th>Scorecount</th>\n",
       "      <th>score mean</th>\n",
       "    </tr>\n",
       "  </thead>\n",
       "  <tbody>\n",
       "    <tr>\n",
       "      <th>0</th>\n",
       "      <td>0</td>\n",
       "      <td>A1Z54EM24Y40LL</td>\n",
       "      <td>c2</td>\n",
       "      <td>17</td>\n",
       "      <td>3.882353</td>\n",
       "    </tr>\n",
       "    <tr>\n",
       "      <th>1</th>\n",
       "      <td>0</td>\n",
       "      <td>A2SZLNSI5KOQJT</td>\n",
       "      <td>Carrie, \"Formerly &amp;#34;Sister Carrie&amp;#34;\"</td>\n",
       "      <td>10</td>\n",
       "      <td>3.800000</td>\n",
       "    </tr>\n",
       "    <tr>\n",
       "      <th>2</th>\n",
       "      <td>0</td>\n",
       "      <td>A35R32TA60XD57</td>\n",
       "      <td>M. Torma</td>\n",
       "      <td>9</td>\n",
       "      <td>4.111111</td>\n",
       "    </tr>\n",
       "    <tr>\n",
       "      <th>3</th>\n",
       "      <td>0</td>\n",
       "      <td>A281NPSIMI1C2R</td>\n",
       "      <td>Rebecca of Amazon \"The Rebecca Review\"</td>\n",
       "      <td>8</td>\n",
       "      <td>5.000000</td>\n",
       "    </tr>\n",
       "    <tr>\n",
       "      <th>4</th>\n",
       "      <td>0</td>\n",
       "      <td>A3OXHLG6DIBRW8</td>\n",
       "      <td>C. F. Hill \"CFH\"</td>\n",
       "      <td>7</td>\n",
       "      <td>4.428571</td>\n",
       "    </tr>\n",
       "    <tr>\n",
       "      <th>5</th>\n",
       "      <td>0</td>\n",
       "      <td>A3NHUQ33CFH3VM</td>\n",
       "      <td>Citizen John</td>\n",
       "      <td>7</td>\n",
       "      <td>3.142857</td>\n",
       "    </tr>\n",
       "    <tr>\n",
       "      <th>6</th>\n",
       "      <td>0</td>\n",
       "      <td>A3PJZ8TU8FDQ1K</td>\n",
       "      <td>Jared Castle</td>\n",
       "      <td>7</td>\n",
       "      <td>4.714286</td>\n",
       "    </tr>\n",
       "    <tr>\n",
       "      <th>7</th>\n",
       "      <td>0</td>\n",
       "      <td>A3TX6CWSZL02PW</td>\n",
       "      <td>LaVerne \":LaVerne\"</td>\n",
       "      <td>6</td>\n",
       "      <td>5.000000</td>\n",
       "    </tr>\n",
       "    <tr>\n",
       "      <th>8</th>\n",
       "      <td>0</td>\n",
       "      <td>AQQLWCMRNDFGI</td>\n",
       "      <td>Steven A. Peterson</td>\n",
       "      <td>6</td>\n",
       "      <td>4.166667</td>\n",
       "    </tr>\n",
       "    <tr>\n",
       "      <th>9</th>\n",
       "      <td>0</td>\n",
       "      <td>A2R6RA8FRBS608</td>\n",
       "      <td>Matthew G. Sherwin</td>\n",
       "      <td>6</td>\n",
       "      <td>5.000000</td>\n",
       "    </tr>\n",
       "  </tbody>\n",
       "</table>\n",
       "</div>"
      ],
      "text/plain": [
       "   index          UserId                                 ProfileName  \\\n",
       "0      0  A1Z54EM24Y40LL                                          c2   \n",
       "1      0  A2SZLNSI5KOQJT  Carrie, \"Formerly &#34;Sister Carrie&#34;\"   \n",
       "2      0  A35R32TA60XD57                                    M. Torma   \n",
       "3      0  A281NPSIMI1C2R      Rebecca of Amazon \"The Rebecca Review\"   \n",
       "4      0  A3OXHLG6DIBRW8                            C. F. Hill \"CFH\"   \n",
       "5      0  A3NHUQ33CFH3VM                                Citizen John   \n",
       "6      0  A3PJZ8TU8FDQ1K                                Jared Castle   \n",
       "7      0  A3TX6CWSZL02PW                          LaVerne \":LaVerne\"   \n",
       "8      0   AQQLWCMRNDFGI                          Steven A. Peterson   \n",
       "9      0  A2R6RA8FRBS608                          Matthew G. Sherwin   \n",
       "\n",
       "  Scorecount  score mean  \n",
       "0         17    3.882353  \n",
       "1         10    3.800000  \n",
       "2          9    4.111111  \n",
       "3          8    5.000000  \n",
       "4          7    4.428571  \n",
       "5          7    3.142857  \n",
       "6          7    4.714286  \n",
       "7          6    5.000000  \n",
       "8          6    4.166667  \n",
       "9          6    5.000000  "
      ]
     },
     "execution_count": 24,
     "metadata": {},
     "output_type": "execute_result"
    }
   ],
   "source": [
    "#1.Answer\n",
    "new.reset_index()"
   ]
  },
  {
   "cell_type": "code",
   "execution_count": 25,
   "metadata": {},
   "outputs": [],
   "source": [
    "#2. Plot score distribution for the user with the most number of reviews\n",
    "first=userid_sort_10.index[0]  #userid with the most number of reviews\n",
    "first_data=userid.get_group(first)     #user\n",
    "first_score=first_data[\"Score\"]"
   ]
  },
  {
   "cell_type": "code",
   "execution_count": 26,
   "metadata": {},
   "outputs": [
    {
     "data": {
      "image/png": "[encoded data removed]",
      "text/plain": [
       "<Figure size 432x288 with 1 Axes>"
      ]
     },
     "metadata": {},
     "output_type": "display_data"
    }
   ],
   "source": [
    "plt.bar(first_score.value_counts().index,first_score.value_counts())\n",
    "plt.xlabel('score')\n",
    "plt.ylabel('times')\n",
    "#2.Answer\n",
    "plt.show()"
   ]
  },
  {
   "cell_type": "code",
   "execution_count": 27,
   "metadata": {},
   "outputs": [
    {
     "data": {
      "image/png": "[encoded data removed]",
      "text/plain": [
       "<Figure size 432x288 with 1 Axes>"
      ]
     },
     "metadata": {},
     "output_type": "display_data"
    }
   ],
   "source": [
    "#3. Plot pandas Series DataFrame (Time->Date)\n",
    "time=pd_data[\"Time\"]\n",
    "#transfer column \"Time\" -> Date\n",
    "plt.hist(pd.to_datetime(time,unit='s').dt.year,bins=13)\n",
    "plt.title('Review Count by Year')\n",
    "plt.xlabel('review years')\n",
    "plt.ylabel('review count')\n",
    "#3.Answer\n",
    "plt.show()\n"
   ]
  },
  {
   "cell_type": "code",
   "execution_count": 28,
   "metadata": {},
   "outputs": [
    {
     "data": {
      "image/png": "[encoded data removed]",
      "text/plain": [
       "<Figure size 432x288 with 2 Axes>"
      ]
     },
     "metadata": {},
     "output_type": "display_data"
    }
   ],
   "source": [
    "#4. Plot HeatMap using seaborn\n",
    "sns.set()\n",
    "#Correlation between numeric features (Id, HelpfulnessNumerator, HelpfulnessDenominator, Score, Time)\n",
    "heat_data=pd_data[['Id','HelpfulnessNumerator','HelpfulnessDenominator','Score','Time']]\n",
    "corrmat = heat_data.corr()\n",
    "ax=sns.heatmap(corrmat,annot=True,vmax=0.6,vmin=-0.2)"
   ]
  },
  {
   "cell_type": "code",
   "execution_count": 35,
   "metadata": {},
   "outputs": [
    {
     "data": {
      "image/png": "[encoded data removed]",
      "text/plain": [
       "<Figure size 432x288 with 1 Axes>"
      ]
     },
     "metadata": {},
     "output_type": "display_data"
    }
   ],
   "source": [
    "#5. Helpful percent\n",
    "H=pd_data\n",
    "\n",
    "def weird_division(n, d):\n",
    "    if d>0:\n",
    "        return n/d\n",
    "    elif n>d:\n",
    "        return -2\n",
    "    else:\n",
    "        return -1\n",
    "def get(df):\n",
    "    hn=df['HelpfulnessNumerator']\n",
    "    hd=df['HelpfulnessDenominator']\n",
    "    result=weird_division(hn, hd)    \n",
    "    return result\n",
    "    \n",
    "helpful_data= H.apply(get,axis=1)\n",
    "for i in range(len(helpful_data)):\n",
    "    if helpful_data[i]==-2:\n",
    "        del helpful_data[i]\n",
    "\n",
    "helpful_data.hist(bins=10)\n",
    "plt.show()"
   ]
  },
  {
   "cell_type": "code",
   "execution_count": null,
   "metadata": {},
   "outputs": [],
   "source": []
  }
 ],
 "metadata": {
  "kernelspec": {
   "display_name": "Python 3",
   "language": "python",
   "name": "python3"
  },
  "language_info": {
   "codemirror_mode": {
    "name": "ipython",
    "version": 3
   },
   "file_extension": ".py",
   "mimetype": "text/x-python",
   "name": "python",
   "nbconvert_exporter": "python",
   "pygments_lexer": "ipython3",
   "version": "3.7.3"
  }
 },
 "nbformat": 4,
 "nbformat_minor": 2
}
